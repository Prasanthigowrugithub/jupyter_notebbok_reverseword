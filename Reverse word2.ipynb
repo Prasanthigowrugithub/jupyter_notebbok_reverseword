{
 "cells": [
  {
   "cell_type": "code",
   "execution_count": 1,
   "id": "9e810a09",
   "metadata": {},
   "outputs": [
    {
     "name": "stdout",
     "output_type": "stream",
     "text": [
      "Enter the word:Prasanthi_Gowru\n",
      "urwoG_ihtnasarP\n"
     ]
    }
   ],
   "source": [
    "#Write a python program that accepts a word from the user and reverse it.\n",
    "Word= input(\"Enter the word:\")\n",
    "rev_Word= Word[::-1]\n",
    "print(rev_Word)"
   ]
  },
  {
   "cell_type": "code",
   "execution_count": null,
   "id": "06971b4d",
   "metadata": {},
   "outputs": [],
   "source": []
  }
 ],
 "metadata": {
  "kernelspec": {
   "display_name": "Python 3 (ipykernel)",
   "language": "python",
   "name": "python3"
  },
  "language_info": {
   "codemirror_mode": {
    "name": "ipython",
    "version": 3
   },
   "file_extension": ".py",
   "mimetype": "text/x-python",
   "name": "python",
   "nbconvert_exporter": "python",
   "pygments_lexer": "ipython3",
   "version": "3.10.6"
  }
 },
 "nbformat": 4,
 "nbformat_minor": 5
}
